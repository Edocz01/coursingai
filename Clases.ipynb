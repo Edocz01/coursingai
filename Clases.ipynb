{
  "nbformat": 4,
  "nbformat_minor": 0,
  "metadata": {
    "colab": {
      "provenance": [],
      "authorship_tag": "ABX9TyMmIZjzw/UGw0Ecb3At5Nni",
      "include_colab_link": true
    },
    "kernelspec": {
      "name": "python3",
      "display_name": "Python 3"
    },
    "language_info": {
      "name": "python"
    }
  },
  "cells": [
    {
      "cell_type": "markdown",
      "metadata": {
        "id": "view-in-github",
        "colab_type": "text"
      },
      "source": [
        "<a href=\"https://colab.research.google.com/github/Edocz01/coursingai/blob/Python/Clases.ipynb\" target=\"_parent\"><img src=\"https://colab.research.google.com/assets/colab-badge.svg\" alt=\"Open In Colab\"/></a>"
      ]
    },
    {
      "cell_type": "code",
      "execution_count": 21,
      "metadata": {
        "colab": {
          "base_uri": "https://localhost:8080/"
        },
        "id": "XWiyngZzJ4O2",
        "outputId": "849fe206-e5c8-4262-fb0b-74605bbdff99"
      },
      "outputs": [
        {
          "output_type": "execute_result",
          "data": {
            "text/plain": [
              "int"
            ]
          },
          "metadata": {},
          "execution_count": 21
        }
      ],
      "source": [
        "type(1)"
      ]
    },
    {
      "cell_type": "code",
      "source": [
        "#help(1)"
      ],
      "metadata": {
        "id": "WxEHZmi0K0rq"
      },
      "execution_count": 22,
      "outputs": []
    },
    {
      "cell_type": "markdown",
      "source": [
        "#Clase Libro"
      ],
      "metadata": {
        "id": "lKI1vUGXK5EK"
      }
    },
    {
      "cell_type": "code",
      "source": [
        "libro = {\n",
        "  \"Autor\": \"Edgar Allan Poe\",\n",
        "  \"Titulo\": \"El cuervo\",\n",
        "  \"Genero\": \"Terror\",\n",
        "  \"Anio\": 1845,\n",
        "  \"Tematica\": \"Locura\"\n",
        "}"
      ],
      "metadata": {
        "id": "FIFxYiXtK69m"
      },
      "execution_count": 23,
      "outputs": []
    },
    {
      "cell_type": "code",
      "source": [
        "type(libro)"
      ],
      "metadata": {
        "colab": {
          "base_uri": "https://localhost:8080/"
        },
        "id": "SF9NVgdiK-eQ",
        "outputId": "4388c0a4-31a1-4f39-9871-d7e40df80a2e"
      },
      "execution_count": 24,
      "outputs": [
        {
          "output_type": "execute_result",
          "data": {
            "text/plain": [
              "dict"
            ]
          },
          "metadata": {},
          "execution_count": 24
        }
      ]
    },
    {
      "cell_type": "code",
      "source": [
        "libro[\"Autor\"]"
      ],
      "metadata": {
        "colab": {
          "base_uri": "https://localhost:8080/",
          "height": 36
        },
        "id": "2QvmT1iiLBZx",
        "outputId": "c2fd603e-762b-4874-e15d-3d138fb22e44"
      },
      "execution_count": 25,
      "outputs": [
        {
          "output_type": "execute_result",
          "data": {
            "text/plain": [
              "'Edgar Allan Poe'"
            ],
            "application/vnd.google.colaboratory.intrinsic+json": {
              "type": "string"
            }
          },
          "metadata": {},
          "execution_count": 25
        }
      ]
    },
    {
      "cell_type": "code",
      "source": [
        "#El metodo especial _init_ es llamado cada vez que un objeto es creado\n",
        "\n",
        "class Libro:\n",
        "  def __init__(Libro, autor, titulo, anio): # self es igual Libro\n",
        "    print(\"Hola, me estoy imprimiendo\")\n",
        "    Libro.autor = autor\n",
        "    Libro.titulo = titulo\n",
        "    Libro.anio = anio"
      ],
      "metadata": {
        "id": "oP2UQY_nLKF8"
      },
      "execution_count": 28,
      "outputs": []
    },
    {
      "cell_type": "code",
      "source": [
        "libro = Libro(\"Edgar Alan Poe\", \"El Cuervo\", 1845)"
      ],
      "metadata": {
        "colab": {
          "base_uri": "https://localhost:8080/"
        },
        "id": "jYJKAXPCLNH1",
        "outputId": "3878e74f-319d-4a47-b013-13028eba73e5"
      },
      "execution_count": 29,
      "outputs": [
        {
          "output_type": "stream",
          "name": "stdout",
          "text": [
            "Hola, me estoy imprimiendo\n"
          ]
        }
      ]
    },
    {
      "cell_type": "code",
      "source": [
        "libro.anio"
      ],
      "metadata": {
        "colab": {
          "base_uri": "https://localhost:8080/"
        },
        "id": "hCacY2UTLTTD",
        "outputId": "81c28a64-db6b-4e1e-da6b-28941c3cdd68"
      },
      "execution_count": 30,
      "outputs": [
        {
          "output_type": "execute_result",
          "data": {
            "text/plain": [
              "1845"
            ]
          },
          "metadata": {},
          "execution_count": 30
        }
      ]
    },
    {
      "cell_type": "code",
      "source": [
        "class Rectangulo:\n",
        "  pass\n",
        "\n",
        "# Aquí son funciones\n",
        "def area(longitud, ancho):\n",
        "  return longitud * ancho\n",
        "\n",
        "def perimetro(longitud, ancho):\n",
        "  return 2 * (longitud + ancho)\n",
        "\n",
        "def es_circulo(self, diametro):\n",
        "  pass"
      ],
      "metadata": {
        "id": "ZRYolaOtN00L"
      },
      "execution_count": 15,
      "outputs": []
    },
    {
      "cell_type": "code",
      "source": [
        "class Rectangulo:\n",
        "  def __init__(self, longitud, ancho):\n",
        "    # Creando atributos de clase\n",
        "    self.longitud = longitud\n",
        "    self.ancho = ancho\n",
        "    if self.es_cuadrado():\n",
        "      print(\"ERROR: Es cuadrado\")\n",
        "\n",
        "  # Aquí son métodos\n",
        "  def area(self):\n",
        "    return self.longitud * self.ancho\n",
        "\n",
        "  def perimetro(self):\n",
        "    return 2 * (self.longitud + self.ancho)\n",
        "\n",
        "  def es_cuadrado(self):\n",
        "    return self.longitud == self.ancho"
      ],
      "metadata": {
        "id": "pPZbW2HOODfp"
      },
      "execution_count": 16,
      "outputs": []
    },
    {
      "cell_type": "code",
      "source": [
        "mi_rectangulo = Rectangulo(5, 5)"
      ],
      "metadata": {
        "colab": {
          "base_uri": "https://localhost:8080/"
        },
        "id": "nnJX_NgKOkkG",
        "outputId": "6f9e9666-fdcb-4d1b-d0c3-f7fd848dfa63"
      },
      "execution_count": 17,
      "outputs": [
        {
          "output_type": "stream",
          "name": "stdout",
          "text": [
            "ERROR: Es cuadrado\n"
          ]
        }
      ]
    },
    {
      "cell_type": "code",
      "source": [
        "mi_rectangulo.perimetro()"
      ],
      "metadata": {
        "colab": {
          "base_uri": "https://localhost:8080/"
        },
        "id": "f2pTUPysO4BW",
        "outputId": "d89ef632-79ad-4713-c71b-44e80bb7c411"
      },
      "execution_count": 19,
      "outputs": [
        {
          "output_type": "execute_result",
          "data": {
            "text/plain": [
              "20"
            ]
          },
          "metadata": {},
          "execution_count": 19
        }
      ]
    },
    {
      "cell_type": "code",
      "source": [
        "mi_rectangulo.es_cuadrado()"
      ],
      "metadata": {
        "colab": {
          "base_uri": "https://localhost:8080/"
        },
        "id": "Ysjs8iKbO9q_",
        "outputId": "8226a5a1-97f1-47cc-8d6c-948be3a6d966"
      },
      "execution_count": 20,
      "outputs": [
        {
          "output_type": "execute_result",
          "data": {
            "text/plain": [
              "True"
            ]
          },
          "metadata": {},
          "execution_count": 20
        }
      ]
    }
  ]
}